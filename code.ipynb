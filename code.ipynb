{
 "cells": [
  {
   "cell_type": "code",
   "execution_count": 1,
   "metadata": {},
   "outputs": [],
   "source": [
    "import copy\n",
    "import random\n",
    "import math"
   ]
  },
  {
   "cell_type": "code",
   "execution_count": 31,
   "metadata": {},
   "outputs": [],
   "source": [
    "N = 6"
   ]
  },
  {
   "cell_type": "code",
   "execution_count": 3,
   "metadata": {},
   "outputs": [],
   "source": [
    "def initial_board():\n",
    "    ret = [[0 for j in range(N)] for i in range(N)]\n",
    "    t = N // 2\n",
    "    ret[t - 1][t - 1] = 1\n",
    "    ret[t - 1][t] = -1\n",
    "    ret[t][t - 1] = -1\n",
    "    ret[t][t] = 1\n",
    "    return ret"
   ]
  },
  {
   "cell_type": "code",
   "execution_count": 4,
   "metadata": {},
   "outputs": [
    {
     "name": "stdout",
     "output_type": "stream",
     "text": [
      "   0  1  2  3  4  5  6  7 \n",
      "0  0  0  0  0  0  0  0  0 \n",
      "1  0  0  0  0  0  0  0  0 \n",
      "2  0  0  0  0  0  0  0  0 \n",
      "3  0  0  0  1 -1  0  0  0 \n",
      "4  0  0  0 -1  1  0  0  0 \n",
      "5  0  0  0  0  0  0  0  0 \n",
      "6  0  0  0  0  0  0  0  0 \n",
      "7  0  0  0  0  0  0  0  0 \n"
     ]
    }
   ],
   "source": [
    "def show_board(board):\n",
    "    print(\"  \", end = \"\")\n",
    "    for i in range(N):\n",
    "        print(\"%2d\" % i, end = \" \")\n",
    "    print()\n",
    "    for i in range(N):\n",
    "        print(\"{} \".format(i), end = \"\")\n",
    "        for j in range(N):\n",
    "            print(\"%2s\" % str(board[i][j]), end = \" \")\n",
    "        print()\n",
    "\n",
    "show_board(initial_board())"
   ]
  },
  {
   "cell_type": "code",
   "execution_count": 8,
   "metadata": {},
   "outputs": [
    {
     "name": "stdout",
     "output_type": "stream",
     "text": [
      "It's turn for  1\n",
      "\n",
      "   0  1  2  3  4  5  6  7 \n",
      "0  0  0  0  0  0  0  0  0 \n",
      "1  0  0  0  0  0  0  0  0 \n",
      "2  0  0  0  0  *  0  0  0 \n",
      "3  0  0  0  1 -1  *  0  0 \n",
      "4  0  0  * -1  1  0  0  0 \n",
      "5  0  0  0  *  0  0  0  0 \n",
      "6  0  0  0  0  0  0  0  0 \n",
      "7  0  0  0  0  0  0  0  0 \n"
     ]
    }
   ],
   "source": [
    "def print_board(board, player, avail):\n",
    "    print(\"It's turn for \", player)\n",
    "    print()\n",
    "    b = copy.deepcopy(board)\n",
    "    for (x, y) in avail:\n",
    "        b[x][y] = \"*\"\n",
    "    show_board(b)\n",
    "\n",
    "print_board(initial_board(), player = 1, avail = available_positions(initial_board(), player = 1))"
   ]
  },
  {
   "cell_type": "code",
   "execution_count": 9,
   "metadata": {
    "code_folding": []
   },
   "outputs": [],
   "source": [
    "def valid_pos(x, y):\n",
    "    return 0 <= x and x < N and 0 <= y and y < N\n",
    "\n",
    "def can_put(board, player, pos):\n",
    "    if board[pos[0]][pos[1]] != 0:\n",
    "        return False\n",
    "    for dx in range(-1, 2):\n",
    "        for dy in range(-1, 2):\n",
    "            if dx == 0 and dy == 0:\n",
    "                continue\n",
    "            x, y = pos[0] + dx, pos[1] + dy\n",
    "            if not valid_pos(x, y):\n",
    "                continue\n",
    "            if board[x][y] == -player:\n",
    "                for k in range(1, N):\n",
    "                    xx, yy = pos[0] + k * dx, pos[1] + k * dy\n",
    "                    if not valid_pos(xx, yy):\n",
    "                        break\n",
    "                    if board[xx][yy] == player:\n",
    "                        return True\n",
    "    return False\n",
    "    \n",
    "def available_positions(board, player):\n",
    "    ret = []\n",
    "    for i in range(N):\n",
    "        for j in range(N):\n",
    "            if can_put(board, player, (i, j)):\n",
    "                ret.append((i, j))\n",
    "    return ret\n",
    "\n",
    "def game_over(board):\n",
    "    return len(available_positions(board, -1)) == 0 \\\n",
    "        and len(available_positions(board, 1)) == 0\n",
    "\n",
    "def get_winner(board):\n",
    "    d = {-1:0, 1:0}\n",
    "    for i in range(N):\n",
    "        for j in range(N):\n",
    "            if board[i][j] == 0:\n",
    "                continue\n",
    "            d[board[i][j]] += 1\n",
    "    return -1 if d[-1] > d[1] else 1"
   ]
  },
  {
   "cell_type": "code",
   "execution_count": 10,
   "metadata": {},
   "outputs": [],
   "source": [
    "def play_one_step(board, player, pos):\n",
    "    board[pos[0]][pos[1]] = player\n",
    "    for dx in range(-1, 2):\n",
    "        for dy in range(-1, 2):\n",
    "            if dx == 0 and dy == 0:\n",
    "                continue\n",
    "            x, y = pos[0] + dx, pos[1] + dy\n",
    "            if not valid_pos(x, y):\n",
    "                continue\n",
    "            if board[x][y] == -player:\n",
    "                for k in range(1, N):\n",
    "                    xx, yy = pos[0] + k * dx, pos[1] + k * dy\n",
    "                    if not valid_pos(xx, yy):\n",
    "                        break\n",
    "                    if board[xx][yy] == player:\n",
    "                        for kk in range(1, k):\n",
    "                            xxx, yyy = pos[0] + kk * dx, pos[1] + kk * dy\n",
    "                            board[xxx][yyy] = player\n",
    "                        break\n",
    "    return board"
   ]
  },
  {
   "cell_type": "code",
   "execution_count": 5,
   "metadata": {},
   "outputs": [
    {
     "data": {
      "text/plain": [
       "[(1, 3), (2, 4), (3, 1), (4, 2)]"
      ]
     },
     "execution_count": 5,
     "metadata": {},
     "output_type": "execute_result"
    }
   ],
   "source": [
    "available_positions(initial_board, 1)"
   ]
  },
  {
   "cell_type": "code",
   "execution_count": 6,
   "metadata": {},
   "outputs": [
    {
     "data": {
      "text/plain": [
       "[(1, 2), (2, 1), (3, 4), (4, 3)]"
      ]
     },
     "execution_count": 6,
     "metadata": {},
     "output_type": "execute_result"
    }
   ],
   "source": [
    "available_positions(initial_board, -1)"
   ]
  },
  {
   "cell_type": "code",
   "execution_count": 7,
   "metadata": {},
   "outputs": [
    {
     "data": {
      "text/plain": [
       "[[0, 0, 0, 0, 0, 0],\n",
       " [0, 0, 0, 1, 0, 0],\n",
       " [0, 0, 1, 1, 0, 0],\n",
       " [0, 0, -1, 1, 0, 0],\n",
       " [0, 0, 0, 0, 0, 0],\n",
       " [0, 0, 0, 0, 0, 0]]"
      ]
     },
     "execution_count": 7,
     "metadata": {},
     "output_type": "execute_result"
    }
   ],
   "source": [
    "sample_board = play_one_step(initial_board, player = 1, pos = (1, 3))\n",
    "sample_board"
   ]
  },
  {
   "cell_type": "code",
   "execution_count": 8,
   "metadata": {},
   "outputs": [
    {
     "data": {
      "text/plain": [
       "[(1, 2), (1, 4), (3, 4)]"
      ]
     },
     "execution_count": 8,
     "metadata": {},
     "output_type": "execute_result"
    }
   ],
   "source": [
    "available_positions(sample_board, -1)"
   ]
  },
  {
   "cell_type": "code",
   "execution_count": 11,
   "metadata": {},
   "outputs": [],
   "source": [
    "class Player:\n",
    "    def choose_pos(self, board, player, avail):\n",
    "        pass"
   ]
  },
  {
   "cell_type": "code",
   "execution_count": 12,
   "metadata": {},
   "outputs": [],
   "source": [
    "class Human_Player(Player):\n",
    "    def choose_pos(self, board, player, avail):\n",
    "        x, y = list(map(int, (input(\"Please input your choice: \").split())))\n",
    "        return x, y"
   ]
  },
  {
   "cell_type": "code",
   "execution_count": 13,
   "metadata": {},
   "outputs": [],
   "source": [
    "class Random_Player(Player):\n",
    "    def choose_pos(self, board, player, avail):\n",
    "        return random.choice(avail)"
   ]
  },
  {
   "cell_type": "code",
   "execution_count": 33,
   "metadata": {},
   "outputs": [],
   "source": [
    "class AI_Player(Player):\n",
    "    def DFS(board, player, depth, alpha, beta):\n",
    "        act = (-1, -1)\n",
    "        if game_over(board) or depth == 0:\n",
    "            # print(\"Over\")\n",
    "            return AI_Player.evaluate(board, player), act\n",
    "        \n",
    "        avail = available_positions(board, player)\n",
    "        if len(avail) == 0:\n",
    "            return AI_Player.DFS(board, -player, depth - 1, -beta, -alpha)\n",
    "        for a in avail:\n",
    "            b = copy.deepcopy(board)\n",
    "            board = play_one_step(board, player, a)\n",
    "            tmp = AI_Player.DFS(board, -player, depth - 1, -beta, -alpha)\n",
    "            # print(tmp)\n",
    "            board = b\n",
    "            \n",
    "            value = -tmp[0]\n",
    "            if value > alpha:\n",
    "                if value >= beta:\n",
    "                    return beta, act\n",
    "                alpha = value\n",
    "                act = a\n",
    "\n",
    "        return alpha, act\n",
    "    \n",
    "    def val_matrix():\n",
    "        if N == 8:\n",
    "            return [[90,-60,10,10,10,10,-60,90],\n",
    "                    [-60,-80,5,5,5,5,-80,-60],\n",
    "                    [10,5,1,1,1,1,5,10],\n",
    "                    [10,5,1,1,1,1,5,10],\n",
    "                    [10,5,1,1,1,1,5,10],\n",
    "                    [10,5,1,1,1,1,5,10],\n",
    "                    [-60,-80,5,5,5,5,-80,-60],\n",
    "                    [90,-60,10,10,10,10,-60,90]]\n",
    "        elif N == 6:\n",
    "            return [[90,-60,10,10,-60,90],\n",
    "                    [-60,-80,5,5,-80,-60],\n",
    "                    [10,5,1,1,5,10],\n",
    "                    [10,5,1,1,5,10],\n",
    "                    [-60,-80,5,5,-80,-60],\n",
    "                    [90,-60,10,10,-60,90]]\n",
    "    \n",
    "    def get_pos_val(board, player):\n",
    "        mat = AI_Player.val_matrix()\n",
    "        ret = 0\n",
    "        for i in range(N):\n",
    "            for j in range(N):\n",
    "                ret += mat[i][j] if board[i][j] == player else 0\n",
    "        return ret\n",
    "    \n",
    "    def get_action_evaluate(board, player):\n",
    "        actions = available_positions(board, player)\n",
    "        mat = AI_Player.val_matrix()\n",
    "        ret = 0\n",
    "        for a in actions:\n",
    "            # ret += mat[a[0]][a[1]]\n",
    "            ret += 1\n",
    "        return ret\n",
    "    \n",
    "    def get_stable_stones(board, player):\n",
    "        avail = available_positions(board, -player)\n",
    "        b = copy.deepcopy(board)\n",
    "        for a in avail:\n",
    "            b = play_one_step(b, -player, a)\n",
    "        ret = 0\n",
    "        for i in range(N):\n",
    "            for j in range(N):\n",
    "                if b[i][j] == player:\n",
    "                    ret += 1\n",
    "        return ret\n",
    "    \n",
    "    def evaluate(board, player):\n",
    "        v1 = AI_Player.get_pos_val(board, player) \\\n",
    "            - AI_Player.get_pos_val(board, -player)\n",
    "        v2 = AI_Player.get_action_evaluate(board, player) \\\n",
    "            - AI_Player.get_action_evaluate(board, -player)\n",
    "        v3 = AI_Player.get_stable_stones(board, player) \\\n",
    "            - AI_Player.get_stable_stones(board, -player)\n",
    "        return v1 + 5 * v2 + 10 * v3\n",
    "\n",
    "    def choose_pos(self, board, player, avail):\n",
    "        alpha, act = AI_Player.DFS(board, player, 5, -99999999, 99999999)\n",
    "        return act"
   ]
  },
  {
   "cell_type": "code",
   "execution_count": null,
   "metadata": {},
   "outputs": [],
   "source": []
  },
  {
   "cell_type": "code",
   "execution_count": 15,
   "metadata": {},
   "outputs": [],
   "source": [
    "def play_game(player1:Player, player2:Player):\n",
    "    d = {1:player1, -1:player2}\n",
    "    board = initial_board()\n",
    "    player = -1\n",
    "    while True:\n",
    "        player = -player\n",
    "        avail = available_positions(board, player)\n",
    "        # print_board(board, player, avail)\n",
    "        \n",
    "        if game_over(board):\n",
    "            winner = get_winner(board)\n",
    "            # print(\"\\nGame is over!\\nThe winner is player: \", winner)\n",
    "            return winner\n",
    "        if len(avail) == 0:\n",
    "            # print(\"You have to pass!\\n\")\n",
    "            continue\n",
    "        \n",
    "        x, y = d[player].choose_pos(board, player, avail)\n",
    "        while not (x, y) in avail:\n",
    "            x, y = d[player].choose_pos(board, player, avail)\n",
    "        board = play_one_step(board, player, (x, y))\n",
    "        # print(\"\\n\\n\")"
   ]
  },
  {
   "cell_type": "code",
   "execution_count": null,
   "metadata": {},
   "outputs": [],
   "source": []
  },
  {
   "cell_type": "code",
   "execution_count": 76,
   "metadata": {},
   "outputs": [
    {
     "data": {
      "text/plain": [
       "(5, 4)"
      ]
     },
     "execution_count": 76,
     "metadata": {},
     "output_type": "execute_result"
    }
   ],
   "source": [
    "b = [[-1, -1, -1, -1, -1, -1],\n",
    "        [-1, -1, -1, 1, -1, -1], \n",
    "        [-1, -1, -1, 1, -1, -1], \n",
    "        [-1, -1, -1, 1, -1, -1], \n",
    "        [-1, -1, -1, 1, -1, -1], \n",
    "        [0,  -1,  0, 1,  0,  0]]\n",
    "AI_Player().choose_pos(b, -1, [])"
   ]
  },
  {
   "cell_type": "code",
   "execution_count": null,
   "metadata": {},
   "outputs": [],
   "source": []
  },
  {
   "cell_type": "code",
   "execution_count": 35,
   "metadata": {},
   "outputs": [
    {
     "name": "stdout",
     "output_type": "stream",
     "text": [
      "Game 0: win 1 --- loss 0\n",
      "Ratio: 1.0\n",
      "Game 1: win 2 --- loss 0\n",
      "Ratio: 1.0\n",
      "Game 2: win 3 --- loss 0\n",
      "Ratio: 1.0\n",
      "Game 3: win 4 --- loss 0\n",
      "Ratio: 1.0\n",
      "Game 4: win 4 --- loss 1\n",
      "Ratio: 0.8\n",
      "Game 5: win 5 --- loss 1\n",
      "Ratio: 0.8333333333333334\n",
      "Game 6: win 5 --- loss 2\n",
      "Ratio: 0.7142857142857143\n",
      "Game 7: win 5 --- loss 3\n",
      "Ratio: 0.625\n",
      "Game 8: win 6 --- loss 3\n",
      "Ratio: 0.6666666666666666\n",
      "Game 9: win 6 --- loss 4\n",
      "Ratio: 0.6\n",
      "Game 10: win 7 --- loss 4\n",
      "Ratio: 0.6363636363636364\n",
      "Game 11: win 8 --- loss 4\n",
      "Ratio: 0.6666666666666666\n",
      "Game 12: win 9 --- loss 4\n",
      "Ratio: 0.6923076923076923\n",
      "Game 13: win 9 --- loss 5\n",
      "Ratio: 0.6428571428571429\n",
      "Game 14: win 10 --- loss 5\n",
      "Ratio: 0.6666666666666666\n",
      "Game 15: win 11 --- loss 5\n",
      "Ratio: 0.6875\n",
      "Game 16: win 12 --- loss 5\n",
      "Ratio: 0.7058823529411765\n",
      "Game 17: win 13 --- loss 5\n",
      "Ratio: 0.7222222222222222\n",
      "Game 18: win 14 --- loss 5\n",
      "Ratio: 0.7368421052631579\n",
      "Game 19: win 15 --- loss 5\n",
      "Ratio: 0.75\n",
      "Game 20: win 16 --- loss 5\n",
      "Ratio: 0.7619047619047619\n",
      "Game 21: win 17 --- loss 5\n",
      "Ratio: 0.7727272727272727\n",
      "Game 22: win 18 --- loss 5\n",
      "Ratio: 0.782608695652174\n",
      "Game 23: win 19 --- loss 5\n",
      "Ratio: 0.7916666666666666\n",
      "Game 24: win 20 --- loss 5\n",
      "Ratio: 0.8\n",
      "Game 25: win 21 --- loss 5\n",
      "Ratio: 0.8076923076923077\n",
      "Game 26: win 22 --- loss 5\n",
      "Ratio: 0.8148148148148148\n",
      "Game 27: win 23 --- loss 5\n",
      "Ratio: 0.8214285714285714\n",
      "Game 28: win 24 --- loss 5\n",
      "Ratio: 0.8275862068965517\n",
      "Game 29: win 25 --- loss 5\n",
      "Ratio: 0.8333333333333334\n",
      "Game 30: win 26 --- loss 5\n",
      "Ratio: 0.8387096774193549\n",
      "Game 31: win 27 --- loss 5\n",
      "Ratio: 0.84375\n",
      "Game 32: win 28 --- loss 5\n",
      "Ratio: 0.8484848484848485\n",
      "Game 33: win 29 --- loss 5\n",
      "Ratio: 0.8529411764705882\n",
      "Game 34: win 29 --- loss 6\n",
      "Ratio: 0.8285714285714286\n",
      "Game 35: win 29 --- loss 7\n",
      "Ratio: 0.8055555555555556\n",
      "Game 36: win 30 --- loss 7\n",
      "Ratio: 0.8108108108108109\n",
      "Game 37: win 31 --- loss 7\n",
      "Ratio: 0.8157894736842105\n",
      "Game 38: win 32 --- loss 7\n",
      "Ratio: 0.8205128205128205\n",
      "Game 39: win 33 --- loss 7\n",
      "Ratio: 0.825\n",
      "Game 40: win 34 --- loss 7\n",
      "Ratio: 0.8292682926829268\n"
     ]
    },
    {
     "ename": "KeyboardInterrupt",
     "evalue": "",
     "output_type": "error",
     "traceback": [
      "\u001b[0;31m---------------------------------------------------------------------------\u001b[0m",
      "\u001b[0;31mKeyboardInterrupt\u001b[0m                         Traceback (most recent call last)",
      "\u001b[0;32m<ipython-input-35-c3451f200c96>\u001b[0m in \u001b[0;36m<module>\u001b[0;34m\u001b[0m\n\u001b[1;32m      1\u001b[0m \u001b[0mwinning\u001b[0m \u001b[0;34m=\u001b[0m \u001b[0;36m0\u001b[0m\u001b[0;34m\u001b[0m\u001b[0;34m\u001b[0m\u001b[0m\n\u001b[1;32m      2\u001b[0m \u001b[0;32mfor\u001b[0m \u001b[0mi\u001b[0m \u001b[0;32min\u001b[0m \u001b[0mrange\u001b[0m\u001b[0;34m(\u001b[0m\u001b[0;36m100\u001b[0m\u001b[0;34m)\u001b[0m\u001b[0;34m:\u001b[0m\u001b[0;34m\u001b[0m\u001b[0;34m\u001b[0m\u001b[0m\n\u001b[0;32m----> 3\u001b[0;31m     \u001b[0;32mif\u001b[0m \u001b[0mplay_game\u001b[0m\u001b[0;34m(\u001b[0m\u001b[0mRandom_Player\u001b[0m\u001b[0;34m(\u001b[0m\u001b[0;34m)\u001b[0m\u001b[0;34m,\u001b[0m \u001b[0mAI_Player\u001b[0m\u001b[0;34m(\u001b[0m\u001b[0;34m)\u001b[0m\u001b[0;34m)\u001b[0m \u001b[0;34m==\u001b[0m \u001b[0;34m-\u001b[0m\u001b[0;36m1\u001b[0m\u001b[0;34m:\u001b[0m\u001b[0;34m\u001b[0m\u001b[0;34m\u001b[0m\u001b[0m\n\u001b[0m\u001b[1;32m      4\u001b[0m         \u001b[0mwinning\u001b[0m \u001b[0;34m+=\u001b[0m \u001b[0;36m1\u001b[0m\u001b[0;34m\u001b[0m\u001b[0;34m\u001b[0m\u001b[0m\n\u001b[1;32m      5\u001b[0m     \u001b[0mprint\u001b[0m\u001b[0;34m(\u001b[0m\u001b[0;34m\"Game {}: win {} --- loss {}\"\u001b[0m\u001b[0;34m.\u001b[0m\u001b[0mformat\u001b[0m\u001b[0;34m(\u001b[0m\u001b[0mi\u001b[0m\u001b[0;34m,\u001b[0m \u001b[0mwinning\u001b[0m\u001b[0;34m,\u001b[0m \u001b[0mi\u001b[0m \u001b[0;34m+\u001b[0m \u001b[0;36m1\u001b[0m \u001b[0;34m-\u001b[0m \u001b[0mwinning\u001b[0m\u001b[0;34m)\u001b[0m\u001b[0;34m)\u001b[0m\u001b[0;34m\u001b[0m\u001b[0;34m\u001b[0m\u001b[0m\n",
      "\u001b[0;32m<ipython-input-15-c9785738f881>\u001b[0m in \u001b[0;36mplay_game\u001b[0;34m(player1, player2)\u001b[0m\n\u001b[1;32m     16\u001b[0m             \u001b[0;32mcontinue\u001b[0m\u001b[0;34m\u001b[0m\u001b[0;34m\u001b[0m\u001b[0m\n\u001b[1;32m     17\u001b[0m \u001b[0;34m\u001b[0m\u001b[0m\n\u001b[0;32m---> 18\u001b[0;31m         \u001b[0mx\u001b[0m\u001b[0;34m,\u001b[0m \u001b[0my\u001b[0m \u001b[0;34m=\u001b[0m \u001b[0md\u001b[0m\u001b[0;34m[\u001b[0m\u001b[0mplayer\u001b[0m\u001b[0;34m]\u001b[0m\u001b[0;34m.\u001b[0m\u001b[0mchoose_pos\u001b[0m\u001b[0;34m(\u001b[0m\u001b[0mboard\u001b[0m\u001b[0;34m,\u001b[0m \u001b[0mplayer\u001b[0m\u001b[0;34m,\u001b[0m \u001b[0mavail\u001b[0m\u001b[0;34m)\u001b[0m\u001b[0;34m\u001b[0m\u001b[0;34m\u001b[0m\u001b[0m\n\u001b[0m\u001b[1;32m     19\u001b[0m         \u001b[0;32mwhile\u001b[0m \u001b[0;32mnot\u001b[0m \u001b[0;34m(\u001b[0m\u001b[0mx\u001b[0m\u001b[0;34m,\u001b[0m \u001b[0my\u001b[0m\u001b[0;34m)\u001b[0m \u001b[0;32min\u001b[0m \u001b[0mavail\u001b[0m\u001b[0;34m:\u001b[0m\u001b[0;34m\u001b[0m\u001b[0;34m\u001b[0m\u001b[0m\n\u001b[1;32m     20\u001b[0m             \u001b[0mx\u001b[0m\u001b[0;34m,\u001b[0m \u001b[0my\u001b[0m \u001b[0;34m=\u001b[0m \u001b[0md\u001b[0m\u001b[0;34m[\u001b[0m\u001b[0mplayer\u001b[0m\u001b[0;34m]\u001b[0m\u001b[0;34m.\u001b[0m\u001b[0mchoose_pos\u001b[0m\u001b[0;34m(\u001b[0m\u001b[0mboard\u001b[0m\u001b[0;34m,\u001b[0m \u001b[0mplayer\u001b[0m\u001b[0;34m,\u001b[0m \u001b[0mavail\u001b[0m\u001b[0;34m)\u001b[0m\u001b[0;34m\u001b[0m\u001b[0;34m\u001b[0m\u001b[0m\n",
      "\u001b[0;32m<ipython-input-33-3cbe433f2657>\u001b[0m in \u001b[0;36mchoose_pos\u001b[0;34m(self, board, player, avail)\u001b[0m\n\u001b[1;32m     82\u001b[0m \u001b[0;34m\u001b[0m\u001b[0m\n\u001b[1;32m     83\u001b[0m     \u001b[0;32mdef\u001b[0m \u001b[0mchoose_pos\u001b[0m\u001b[0;34m(\u001b[0m\u001b[0mself\u001b[0m\u001b[0;34m,\u001b[0m \u001b[0mboard\u001b[0m\u001b[0;34m,\u001b[0m \u001b[0mplayer\u001b[0m\u001b[0;34m,\u001b[0m \u001b[0mavail\u001b[0m\u001b[0;34m)\u001b[0m\u001b[0;34m:\u001b[0m\u001b[0;34m\u001b[0m\u001b[0;34m\u001b[0m\u001b[0m\n\u001b[0;32m---> 84\u001b[0;31m         \u001b[0malpha\u001b[0m\u001b[0;34m,\u001b[0m \u001b[0mact\u001b[0m \u001b[0;34m=\u001b[0m \u001b[0mAI_Player\u001b[0m\u001b[0;34m.\u001b[0m\u001b[0mDFS\u001b[0m\u001b[0;34m(\u001b[0m\u001b[0mboard\u001b[0m\u001b[0;34m,\u001b[0m \u001b[0mplayer\u001b[0m\u001b[0;34m,\u001b[0m \u001b[0;36m5\u001b[0m\u001b[0;34m,\u001b[0m \u001b[0;34m-\u001b[0m\u001b[0;36m99999999\u001b[0m\u001b[0;34m,\u001b[0m \u001b[0;36m99999999\u001b[0m\u001b[0;34m)\u001b[0m\u001b[0;34m\u001b[0m\u001b[0;34m\u001b[0m\u001b[0m\n\u001b[0m\u001b[1;32m     85\u001b[0m         \u001b[0;32mreturn\u001b[0m \u001b[0mact\u001b[0m\u001b[0;34m\u001b[0m\u001b[0;34m\u001b[0m\u001b[0m\n",
      "\u001b[0;32m<ipython-input-33-3cbe433f2657>\u001b[0m in \u001b[0;36mDFS\u001b[0;34m(board, player, depth, alpha, beta)\u001b[0m\n\u001b[1;32m     12\u001b[0m             \u001b[0mb\u001b[0m \u001b[0;34m=\u001b[0m \u001b[0mcopy\u001b[0m\u001b[0;34m.\u001b[0m\u001b[0mdeepcopy\u001b[0m\u001b[0;34m(\u001b[0m\u001b[0mboard\u001b[0m\u001b[0;34m)\u001b[0m\u001b[0;34m\u001b[0m\u001b[0;34m\u001b[0m\u001b[0m\n\u001b[1;32m     13\u001b[0m             \u001b[0mboard\u001b[0m \u001b[0;34m=\u001b[0m \u001b[0mplay_one_step\u001b[0m\u001b[0;34m(\u001b[0m\u001b[0mboard\u001b[0m\u001b[0;34m,\u001b[0m \u001b[0mplayer\u001b[0m\u001b[0;34m,\u001b[0m \u001b[0ma\u001b[0m\u001b[0;34m)\u001b[0m\u001b[0;34m\u001b[0m\u001b[0;34m\u001b[0m\u001b[0m\n\u001b[0;32m---> 14\u001b[0;31m             \u001b[0mtmp\u001b[0m \u001b[0;34m=\u001b[0m \u001b[0mAI_Player\u001b[0m\u001b[0;34m.\u001b[0m\u001b[0mDFS\u001b[0m\u001b[0;34m(\u001b[0m\u001b[0mboard\u001b[0m\u001b[0;34m,\u001b[0m \u001b[0;34m-\u001b[0m\u001b[0mplayer\u001b[0m\u001b[0;34m,\u001b[0m \u001b[0mdepth\u001b[0m \u001b[0;34m-\u001b[0m \u001b[0;36m1\u001b[0m\u001b[0;34m,\u001b[0m \u001b[0;34m-\u001b[0m\u001b[0mbeta\u001b[0m\u001b[0;34m,\u001b[0m \u001b[0;34m-\u001b[0m\u001b[0malpha\u001b[0m\u001b[0;34m)\u001b[0m\u001b[0;34m\u001b[0m\u001b[0;34m\u001b[0m\u001b[0m\n\u001b[0m\u001b[1;32m     15\u001b[0m             \u001b[0;31m# print(tmp)\u001b[0m\u001b[0;34m\u001b[0m\u001b[0;34m\u001b[0m\u001b[0;34m\u001b[0m\u001b[0m\n\u001b[1;32m     16\u001b[0m             \u001b[0mboard\u001b[0m \u001b[0;34m=\u001b[0m \u001b[0mb\u001b[0m\u001b[0;34m\u001b[0m\u001b[0;34m\u001b[0m\u001b[0m\n",
      "\u001b[0;32m<ipython-input-33-3cbe433f2657>\u001b[0m in \u001b[0;36mDFS\u001b[0;34m(board, player, depth, alpha, beta)\u001b[0m\n\u001b[1;32m     12\u001b[0m             \u001b[0mb\u001b[0m \u001b[0;34m=\u001b[0m \u001b[0mcopy\u001b[0m\u001b[0;34m.\u001b[0m\u001b[0mdeepcopy\u001b[0m\u001b[0;34m(\u001b[0m\u001b[0mboard\u001b[0m\u001b[0;34m)\u001b[0m\u001b[0;34m\u001b[0m\u001b[0;34m\u001b[0m\u001b[0m\n\u001b[1;32m     13\u001b[0m             \u001b[0mboard\u001b[0m \u001b[0;34m=\u001b[0m \u001b[0mplay_one_step\u001b[0m\u001b[0;34m(\u001b[0m\u001b[0mboard\u001b[0m\u001b[0;34m,\u001b[0m \u001b[0mplayer\u001b[0m\u001b[0;34m,\u001b[0m \u001b[0ma\u001b[0m\u001b[0;34m)\u001b[0m\u001b[0;34m\u001b[0m\u001b[0;34m\u001b[0m\u001b[0m\n\u001b[0;32m---> 14\u001b[0;31m             \u001b[0mtmp\u001b[0m \u001b[0;34m=\u001b[0m \u001b[0mAI_Player\u001b[0m\u001b[0;34m.\u001b[0m\u001b[0mDFS\u001b[0m\u001b[0;34m(\u001b[0m\u001b[0mboard\u001b[0m\u001b[0;34m,\u001b[0m \u001b[0;34m-\u001b[0m\u001b[0mplayer\u001b[0m\u001b[0;34m,\u001b[0m \u001b[0mdepth\u001b[0m \u001b[0;34m-\u001b[0m \u001b[0;36m1\u001b[0m\u001b[0;34m,\u001b[0m \u001b[0;34m-\u001b[0m\u001b[0mbeta\u001b[0m\u001b[0;34m,\u001b[0m \u001b[0;34m-\u001b[0m\u001b[0malpha\u001b[0m\u001b[0;34m)\u001b[0m\u001b[0;34m\u001b[0m\u001b[0;34m\u001b[0m\u001b[0m\n\u001b[0m\u001b[1;32m     15\u001b[0m             \u001b[0;31m# print(tmp)\u001b[0m\u001b[0;34m\u001b[0m\u001b[0;34m\u001b[0m\u001b[0;34m\u001b[0m\u001b[0m\n\u001b[1;32m     16\u001b[0m             \u001b[0mboard\u001b[0m \u001b[0;34m=\u001b[0m \u001b[0mb\u001b[0m\u001b[0;34m\u001b[0m\u001b[0;34m\u001b[0m\u001b[0m\n",
      "\u001b[0;32m<ipython-input-33-3cbe433f2657>\u001b[0m in \u001b[0;36mDFS\u001b[0;34m(board, player, depth, alpha, beta)\u001b[0m\n\u001b[1;32m     12\u001b[0m             \u001b[0mb\u001b[0m \u001b[0;34m=\u001b[0m \u001b[0mcopy\u001b[0m\u001b[0;34m.\u001b[0m\u001b[0mdeepcopy\u001b[0m\u001b[0;34m(\u001b[0m\u001b[0mboard\u001b[0m\u001b[0;34m)\u001b[0m\u001b[0;34m\u001b[0m\u001b[0;34m\u001b[0m\u001b[0m\n\u001b[1;32m     13\u001b[0m             \u001b[0mboard\u001b[0m \u001b[0;34m=\u001b[0m \u001b[0mplay_one_step\u001b[0m\u001b[0;34m(\u001b[0m\u001b[0mboard\u001b[0m\u001b[0;34m,\u001b[0m \u001b[0mplayer\u001b[0m\u001b[0;34m,\u001b[0m \u001b[0ma\u001b[0m\u001b[0;34m)\u001b[0m\u001b[0;34m\u001b[0m\u001b[0;34m\u001b[0m\u001b[0m\n\u001b[0;32m---> 14\u001b[0;31m             \u001b[0mtmp\u001b[0m \u001b[0;34m=\u001b[0m \u001b[0mAI_Player\u001b[0m\u001b[0;34m.\u001b[0m\u001b[0mDFS\u001b[0m\u001b[0;34m(\u001b[0m\u001b[0mboard\u001b[0m\u001b[0;34m,\u001b[0m \u001b[0;34m-\u001b[0m\u001b[0mplayer\u001b[0m\u001b[0;34m,\u001b[0m \u001b[0mdepth\u001b[0m \u001b[0;34m-\u001b[0m \u001b[0;36m1\u001b[0m\u001b[0;34m,\u001b[0m \u001b[0;34m-\u001b[0m\u001b[0mbeta\u001b[0m\u001b[0;34m,\u001b[0m \u001b[0;34m-\u001b[0m\u001b[0malpha\u001b[0m\u001b[0;34m)\u001b[0m\u001b[0;34m\u001b[0m\u001b[0;34m\u001b[0m\u001b[0m\n\u001b[0m\u001b[1;32m     15\u001b[0m             \u001b[0;31m# print(tmp)\u001b[0m\u001b[0;34m\u001b[0m\u001b[0;34m\u001b[0m\u001b[0;34m\u001b[0m\u001b[0m\n\u001b[1;32m     16\u001b[0m             \u001b[0mboard\u001b[0m \u001b[0;34m=\u001b[0m \u001b[0mb\u001b[0m\u001b[0;34m\u001b[0m\u001b[0;34m\u001b[0m\u001b[0m\n",
      "\u001b[0;32m<ipython-input-33-3cbe433f2657>\u001b[0m in \u001b[0;36mDFS\u001b[0;34m(board, player, depth, alpha, beta)\u001b[0m\n\u001b[1;32m     12\u001b[0m             \u001b[0mb\u001b[0m \u001b[0;34m=\u001b[0m \u001b[0mcopy\u001b[0m\u001b[0;34m.\u001b[0m\u001b[0mdeepcopy\u001b[0m\u001b[0;34m(\u001b[0m\u001b[0mboard\u001b[0m\u001b[0;34m)\u001b[0m\u001b[0;34m\u001b[0m\u001b[0;34m\u001b[0m\u001b[0m\n\u001b[1;32m     13\u001b[0m             \u001b[0mboard\u001b[0m \u001b[0;34m=\u001b[0m \u001b[0mplay_one_step\u001b[0m\u001b[0;34m(\u001b[0m\u001b[0mboard\u001b[0m\u001b[0;34m,\u001b[0m \u001b[0mplayer\u001b[0m\u001b[0;34m,\u001b[0m \u001b[0ma\u001b[0m\u001b[0;34m)\u001b[0m\u001b[0;34m\u001b[0m\u001b[0;34m\u001b[0m\u001b[0m\n\u001b[0;32m---> 14\u001b[0;31m             \u001b[0mtmp\u001b[0m \u001b[0;34m=\u001b[0m \u001b[0mAI_Player\u001b[0m\u001b[0;34m.\u001b[0m\u001b[0mDFS\u001b[0m\u001b[0;34m(\u001b[0m\u001b[0mboard\u001b[0m\u001b[0;34m,\u001b[0m \u001b[0;34m-\u001b[0m\u001b[0mplayer\u001b[0m\u001b[0;34m,\u001b[0m \u001b[0mdepth\u001b[0m \u001b[0;34m-\u001b[0m \u001b[0;36m1\u001b[0m\u001b[0;34m,\u001b[0m \u001b[0;34m-\u001b[0m\u001b[0mbeta\u001b[0m\u001b[0;34m,\u001b[0m \u001b[0;34m-\u001b[0m\u001b[0malpha\u001b[0m\u001b[0;34m)\u001b[0m\u001b[0;34m\u001b[0m\u001b[0;34m\u001b[0m\u001b[0m\n\u001b[0m\u001b[1;32m     15\u001b[0m             \u001b[0;31m# print(tmp)\u001b[0m\u001b[0;34m\u001b[0m\u001b[0;34m\u001b[0m\u001b[0;34m\u001b[0m\u001b[0m\n\u001b[1;32m     16\u001b[0m             \u001b[0mboard\u001b[0m \u001b[0;34m=\u001b[0m \u001b[0mb\u001b[0m\u001b[0;34m\u001b[0m\u001b[0;34m\u001b[0m\u001b[0m\n",
      "\u001b[0;32m<ipython-input-33-3cbe433f2657>\u001b[0m in \u001b[0;36mDFS\u001b[0;34m(board, player, depth, alpha, beta)\u001b[0m\n\u001b[1;32m      6\u001b[0m             \u001b[0;32mreturn\u001b[0m \u001b[0mAI_Player\u001b[0m\u001b[0;34m.\u001b[0m\u001b[0mevaluate\u001b[0m\u001b[0;34m(\u001b[0m\u001b[0mboard\u001b[0m\u001b[0;34m,\u001b[0m \u001b[0mplayer\u001b[0m\u001b[0;34m)\u001b[0m\u001b[0;34m,\u001b[0m \u001b[0mact\u001b[0m\u001b[0;34m\u001b[0m\u001b[0;34m\u001b[0m\u001b[0m\n\u001b[1;32m      7\u001b[0m \u001b[0;34m\u001b[0m\u001b[0m\n\u001b[0;32m----> 8\u001b[0;31m         \u001b[0mavail\u001b[0m \u001b[0;34m=\u001b[0m \u001b[0mavailable_positions\u001b[0m\u001b[0;34m(\u001b[0m\u001b[0mboard\u001b[0m\u001b[0;34m,\u001b[0m \u001b[0mplayer\u001b[0m\u001b[0;34m)\u001b[0m\u001b[0;34m\u001b[0m\u001b[0;34m\u001b[0m\u001b[0m\n\u001b[0m\u001b[1;32m      9\u001b[0m         \u001b[0;32mif\u001b[0m \u001b[0mlen\u001b[0m\u001b[0;34m(\u001b[0m\u001b[0mavail\u001b[0m\u001b[0;34m)\u001b[0m \u001b[0;34m==\u001b[0m \u001b[0;36m0\u001b[0m\u001b[0;34m:\u001b[0m\u001b[0;34m\u001b[0m\u001b[0;34m\u001b[0m\u001b[0m\n\u001b[1;32m     10\u001b[0m             \u001b[0;32mreturn\u001b[0m \u001b[0mAI_Player\u001b[0m\u001b[0;34m.\u001b[0m\u001b[0mDFS\u001b[0m\u001b[0;34m(\u001b[0m\u001b[0mboard\u001b[0m\u001b[0;34m,\u001b[0m \u001b[0;34m-\u001b[0m\u001b[0mplayer\u001b[0m\u001b[0;34m,\u001b[0m \u001b[0mdepth\u001b[0m \u001b[0;34m-\u001b[0m \u001b[0;36m1\u001b[0m\u001b[0;34m,\u001b[0m \u001b[0;34m-\u001b[0m\u001b[0mbeta\u001b[0m\u001b[0;34m,\u001b[0m \u001b[0;34m-\u001b[0m\u001b[0malpha\u001b[0m\u001b[0;34m)\u001b[0m\u001b[0;34m\u001b[0m\u001b[0;34m\u001b[0m\u001b[0m\n",
      "\u001b[0;32m<ipython-input-9-93b42527b464>\u001b[0m in \u001b[0;36mavailable_positions\u001b[0;34m(board, player)\u001b[0m\n\u001b[1;32m     25\u001b[0m     \u001b[0;32mfor\u001b[0m \u001b[0mi\u001b[0m \u001b[0;32min\u001b[0m \u001b[0mrange\u001b[0m\u001b[0;34m(\u001b[0m\u001b[0mN\u001b[0m\u001b[0;34m)\u001b[0m\u001b[0;34m:\u001b[0m\u001b[0;34m\u001b[0m\u001b[0;34m\u001b[0m\u001b[0m\n\u001b[1;32m     26\u001b[0m         \u001b[0;32mfor\u001b[0m \u001b[0mj\u001b[0m \u001b[0;32min\u001b[0m \u001b[0mrange\u001b[0m\u001b[0;34m(\u001b[0m\u001b[0mN\u001b[0m\u001b[0;34m)\u001b[0m\u001b[0;34m:\u001b[0m\u001b[0;34m\u001b[0m\u001b[0;34m\u001b[0m\u001b[0m\n\u001b[0;32m---> 27\u001b[0;31m             \u001b[0;32mif\u001b[0m \u001b[0mcan_put\u001b[0m\u001b[0;34m(\u001b[0m\u001b[0mboard\u001b[0m\u001b[0;34m,\u001b[0m \u001b[0mplayer\u001b[0m\u001b[0;34m,\u001b[0m \u001b[0;34m(\u001b[0m\u001b[0mi\u001b[0m\u001b[0;34m,\u001b[0m \u001b[0mj\u001b[0m\u001b[0;34m)\u001b[0m\u001b[0;34m)\u001b[0m\u001b[0;34m:\u001b[0m\u001b[0;34m\u001b[0m\u001b[0;34m\u001b[0m\u001b[0m\n\u001b[0m\u001b[1;32m     28\u001b[0m                 \u001b[0mret\u001b[0m\u001b[0;34m.\u001b[0m\u001b[0mappend\u001b[0m\u001b[0;34m(\u001b[0m\u001b[0;34m(\u001b[0m\u001b[0mi\u001b[0m\u001b[0;34m,\u001b[0m \u001b[0mj\u001b[0m\u001b[0;34m)\u001b[0m\u001b[0;34m)\u001b[0m\u001b[0;34m\u001b[0m\u001b[0;34m\u001b[0m\u001b[0m\n\u001b[1;32m     29\u001b[0m     \u001b[0;32mreturn\u001b[0m \u001b[0mret\u001b[0m\u001b[0;34m\u001b[0m\u001b[0;34m\u001b[0m\u001b[0m\n",
      "\u001b[0;32m<ipython-input-9-93b42527b464>\u001b[0m in \u001b[0;36mcan_put\u001b[0;34m(board, player, pos)\u001b[0m\n\u001b[1;32m      5\u001b[0m     \u001b[0;32mif\u001b[0m \u001b[0mboard\u001b[0m\u001b[0;34m[\u001b[0m\u001b[0mpos\u001b[0m\u001b[0;34m[\u001b[0m\u001b[0;36m0\u001b[0m\u001b[0;34m]\u001b[0m\u001b[0;34m]\u001b[0m\u001b[0;34m[\u001b[0m\u001b[0mpos\u001b[0m\u001b[0;34m[\u001b[0m\u001b[0;36m1\u001b[0m\u001b[0;34m]\u001b[0m\u001b[0;34m]\u001b[0m \u001b[0;34m!=\u001b[0m \u001b[0;36m0\u001b[0m\u001b[0;34m:\u001b[0m\u001b[0;34m\u001b[0m\u001b[0;34m\u001b[0m\u001b[0m\n\u001b[1;32m      6\u001b[0m         \u001b[0;32mreturn\u001b[0m \u001b[0;32mFalse\u001b[0m\u001b[0;34m\u001b[0m\u001b[0;34m\u001b[0m\u001b[0m\n\u001b[0;32m----> 7\u001b[0;31m     \u001b[0;32mfor\u001b[0m \u001b[0mdx\u001b[0m \u001b[0;32min\u001b[0m \u001b[0mrange\u001b[0m\u001b[0;34m(\u001b[0m\u001b[0;34m-\u001b[0m\u001b[0;36m1\u001b[0m\u001b[0;34m,\u001b[0m \u001b[0;36m2\u001b[0m\u001b[0;34m)\u001b[0m\u001b[0;34m:\u001b[0m\u001b[0;34m\u001b[0m\u001b[0;34m\u001b[0m\u001b[0m\n\u001b[0m\u001b[1;32m      8\u001b[0m         \u001b[0;32mfor\u001b[0m \u001b[0mdy\u001b[0m \u001b[0;32min\u001b[0m \u001b[0mrange\u001b[0m\u001b[0;34m(\u001b[0m\u001b[0;34m-\u001b[0m\u001b[0;36m1\u001b[0m\u001b[0;34m,\u001b[0m \u001b[0;36m2\u001b[0m\u001b[0;34m)\u001b[0m\u001b[0;34m:\u001b[0m\u001b[0;34m\u001b[0m\u001b[0;34m\u001b[0m\u001b[0m\n\u001b[1;32m      9\u001b[0m             \u001b[0;32mif\u001b[0m \u001b[0mdx\u001b[0m \u001b[0;34m==\u001b[0m \u001b[0;36m0\u001b[0m \u001b[0;32mand\u001b[0m \u001b[0mdy\u001b[0m \u001b[0;34m==\u001b[0m \u001b[0;36m0\u001b[0m\u001b[0;34m:\u001b[0m\u001b[0;34m\u001b[0m\u001b[0;34m\u001b[0m\u001b[0m\n",
      "\u001b[0;31mKeyboardInterrupt\u001b[0m: "
     ]
    }
   ],
   "source": [
    "winning = 0\n",
    "for i in range(100):\n",
    "    if play_game(Random_Player(), AI_Player()) == -1:\n",
    "        winning += 1\n",
    "    print(\"Game {}: win {} --- loss {}\".format(i, winning, i + 1 - winning))\n",
    "    print(\"Ratio:\", winning / (i + 1))"
   ]
  },
  {
   "cell_type": "code",
   "execution_count": null,
   "metadata": {},
   "outputs": [],
   "source": []
  },
  {
   "cell_type": "code",
   "execution_count": null,
   "metadata": {},
   "outputs": [],
   "source": [
    "class MCTS_Player(Player):\n",
    "    class Node:\n",
    "        def __init__(self, board, player_):\n",
    "            self.C = 1.0\n",
    "            self.state = board\n",
    "            self.player = player_\n",
    "            self.actions = available_positions(board, player_)\n",
    "            \n",
    "            self.son = {}\n",
    "            self.num = 0\n",
    "            self.win = 0\n",
    "        \n",
    "        def select_node(self):\n",
    "            val, act = -float(\"INF\"), None\n",
    "            for a in avail:\n",
    "                if a in self.son:\n",
    "                    y = self.son[a]\n",
    "                    v = y.win / y.num + C * math.sqrt(math.log(self.num) / (1 + y.num))\n",
    "                    if v > val:\n",
    "                        val, act = v, a\n",
    "                else:\n",
    "                    v = 0 + C * math.sqrt(math.log(self.num))\n",
    "                    if v > val:\n",
    "                        val, act = v, a\n",
    "            return val, act\n",
    "        \n",
    "        def expansion_node(self):\n",
    "            act = random.choice(self.actions)\n",
    "            board = copy.deepcopy(self.state)\n",
    "            board = play_one_step(board, -self.player, act)\n",
    "            self.son[act] = Node(board, -self.player)\n",
    "            return self.son[act]\n",
    "        \n",
    "        def rollout(self):\n",
    "            board = self.state\n",
    "            player = self.player\n",
    "            while True:\n",
    "                if game_over(board):\n",
    "                    return get_winner(board)\n",
    "                avail = available_positions(board, player)\n",
    "                act = random.choice(avail)\n",
    "                board = play_one_step(board, player, act)\n",
    "                player = -player\n",
    "        \n",
    "        def dfs(x):\n",
    "            val, act = x.select_node()\n",
    "            if act in x.son:\n",
    "                y = x.son[act]\n",
    "                dfs(y)\n",
    "            else:\n",
    "                \n",
    "    \n",
    "    def choose_pos(self, board, player, avail):\n",
    "        return -1, -1"
   ]
  },
  {
   "cell_type": "code",
   "execution_count": null,
   "metadata": {},
   "outputs": [],
   "source": []
  },
  {
   "cell_type": "code",
   "execution_count": null,
   "metadata": {},
   "outputs": [],
   "source": []
  }
 ],
 "metadata": {
  "@webio": {
   "lastCommId": "134eb0413f184dba9144481ebb0a131f",
   "lastKernelId": "aca5e3a0-55f0-4ae7-bd7f-389556a7cbcb"
  },
  "kernelspec": {
   "display_name": "Python 3",
   "language": "python",
   "name": "python3"
  },
  "language_info": {
   "codemirror_mode": {
    "name": "ipython",
    "version": 3
   },
   "file_extension": ".py",
   "mimetype": "text/x-python",
   "name": "python",
   "nbconvert_exporter": "python",
   "pygments_lexer": "ipython3",
   "version": "3.7.1"
  }
 },
 "nbformat": 4,
 "nbformat_minor": 2
}
