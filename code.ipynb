{
 "cells": [
  {
   "cell_type": "code",
   "execution_count": 1,
   "metadata": {},
   "outputs": [],
   "source": [
    "import copy\n",
    "import random\n",
    "import math"
   ]
  },
  {
   "cell_type": "code",
   "execution_count": 88,
   "metadata": {},
   "outputs": [],
   "source": [
    "N = 8"
   ]
  },
  {
   "cell_type": "code",
   "execution_count": 3,
   "metadata": {},
   "outputs": [],
   "source": [
    "def initial_board():\n",
    "    ret = [[0 for j in range(N)] for i in range(N)]\n",
    "    t = N // 2\n",
    "    ret[t - 1][t - 1] = 1\n",
    "    ret[t - 1][t] = -1\n",
    "    ret[t][t - 1] = -1\n",
    "    ret[t][t] = 1\n",
    "    return ret"
   ]
  },
  {
   "cell_type": "code",
   "execution_count": 4,
   "metadata": {},
   "outputs": [
    {
     "name": "stdout",
     "output_type": "stream",
     "text": [
      "   0  1  2  3  4  5 \n",
      "0  0  0  0  0  0  0 \n",
      "1  0  0  0  0  0  0 \n",
      "2  0  0  1 -1  0  0 \n",
      "3  0  0 -1  1  0  0 \n",
      "4  0  0  0  0  0  0 \n",
      "5  0  0  0  0  0  0 \n"
     ]
    }
   ],
   "source": [
    "def show_board(board):\n",
    "    print(\"  \", end = \"\")\n",
    "    for i in range(N):\n",
    "        print(\"%2d\" % i, end = \" \")\n",
    "    print()\n",
    "    for i in range(N):\n",
    "        print(\"{} \".format(i), end = \"\")\n",
    "        for j in range(N):\n",
    "            print(\"%2s\" % str(board[i][j]), end = \" \")\n",
    "        print()\n",
    "\n",
    "show_board(initial_board())"
   ]
  },
  {
   "cell_type": "code",
   "execution_count": 8,
   "metadata": {},
   "outputs": [
    {
     "name": "stdout",
     "output_type": "stream",
     "text": [
      "It's turn for  1\n",
      "\n",
      "   0  1  2  3  4  5 \n",
      "0  0  0  0  0  0  0 \n",
      "1  0  0  0  *  0  0 \n",
      "2  0  0  1 -1  *  0 \n",
      "3  0  * -1  1  0  0 \n",
      "4  0  0  *  0  0  0 \n",
      "5  0  0  0  0  0  0 \n"
     ]
    }
   ],
   "source": [
    "def print_board(board, player, avail):\n",
    "    print(\"It's turn for \", player)\n",
    "    print()\n",
    "    b = copy.deepcopy(board)\n",
    "    for (x, y) in avail:\n",
    "        b[x][y] = \"*\"\n",
    "    show_board(b)\n",
    "\n",
    "print_board(initial_board(), player = 1, avail = available_positions(initial_board(), player = 1))"
   ]
  },
  {
   "cell_type": "code",
   "execution_count": 71,
   "metadata": {},
   "outputs": [],
   "source": [
    "def valid_pos(x, y):\n",
    "    return 0 <= x and x < N and 0 <= y and y < N\n",
    "\n",
    "def can_put(board, player, pos):\n",
    "    if board[pos[0]][pos[1]] != 0:\n",
    "        return False\n",
    "    for dx in range(-1, 2):\n",
    "        for dy in range(-1, 2):\n",
    "            if dx == 0 and dy == 0:\n",
    "                continue\n",
    "            x, y = pos[0] + dx, pos[1] + dy\n",
    "            if not valid_pos(x, y):\n",
    "                continue\n",
    "            if board[x][y] == -player:\n",
    "                for k in range(1, N):\n",
    "                    xx, yy = pos[0] + k * dx, pos[1] + k * dy\n",
    "                    if not valid_pos(xx, yy):\n",
    "                        break\n",
    "                    if board[xx][yy] == player:\n",
    "                        return True\n",
    "    return False\n",
    "    \n",
    "def available_positions(board, player):\n",
    "    ret = []\n",
    "    for i in range(N):\n",
    "        for j in range(N):\n",
    "            if can_put(board, player, (i, j)):\n",
    "                ret.append((i, j))\n",
    "    return ret\n",
    "\n",
    "def game_over(board):\n",
    "    return len(available_positions(board, -1)) == 0 \\\n",
    "        and len(available_positions(board, 1)) == 0\n",
    "\n",
    "def get_winner(board):\n",
    "    d = {-1:0, 1:0}\n",
    "    for i in range(N):\n",
    "        for j in range(N):\n",
    "            if board[i][j] == 0:\n",
    "                continue\n",
    "            d[board[i][j]] += 1\n",
    "    return -1 if d[-1] > d[1] else 1"
   ]
  },
  {
   "cell_type": "code",
   "execution_count": 7,
   "metadata": {},
   "outputs": [],
   "source": [
    "def play_one_step(board, player, pos):\n",
    "    board[pos[0]][pos[1]] = player\n",
    "    for dx in range(-1, 2):\n",
    "        for dy in range(-1, 2):\n",
    "            if dx == 0 and dy == 0:\n",
    "                continue\n",
    "            x, y = pos[0] + dx, pos[1] + dy\n",
    "            if not valid_pos(x, y):\n",
    "                continue\n",
    "            if board[x][y] == -player:\n",
    "                for k in range(1, N):\n",
    "                    xx, yy = pos[0] + k * dx, pos[1] + k * dy\n",
    "                    if not valid_pos(xx, yy):\n",
    "                        break\n",
    "                    if board[xx][yy] == player:\n",
    "                        for kk in range(1, k):\n",
    "                            xxx, yyy = pos[0] + kk * dx, pos[1] + kk * dy\n",
    "                            board[xxx][yyy] = player\n",
    "                        break\n",
    "    return board"
   ]
  },
  {
   "cell_type": "code",
   "execution_count": 5,
   "metadata": {},
   "outputs": [
    {
     "data": {
      "text/plain": [
       "[(1, 3), (2, 4), (3, 1), (4, 2)]"
      ]
     },
     "execution_count": 5,
     "metadata": {},
     "output_type": "execute_result"
    }
   ],
   "source": [
    "available_positions(initial_board, 1)"
   ]
  },
  {
   "cell_type": "code",
   "execution_count": 6,
   "metadata": {},
   "outputs": [
    {
     "data": {
      "text/plain": [
       "[(1, 2), (2, 1), (3, 4), (4, 3)]"
      ]
     },
     "execution_count": 6,
     "metadata": {},
     "output_type": "execute_result"
    }
   ],
   "source": [
    "available_positions(initial_board, -1)"
   ]
  },
  {
   "cell_type": "code",
   "execution_count": 7,
   "metadata": {},
   "outputs": [
    {
     "data": {
      "text/plain": [
       "[[0, 0, 0, 0, 0, 0],\n",
       " [0, 0, 0, 1, 0, 0],\n",
       " [0, 0, 1, 1, 0, 0],\n",
       " [0, 0, -1, 1, 0, 0],\n",
       " [0, 0, 0, 0, 0, 0],\n",
       " [0, 0, 0, 0, 0, 0]]"
      ]
     },
     "execution_count": 7,
     "metadata": {},
     "output_type": "execute_result"
    }
   ],
   "source": [
    "sample_board = play_one_step(initial_board, player = 1, pos = (1, 3))\n",
    "sample_board"
   ]
  },
  {
   "cell_type": "code",
   "execution_count": 8,
   "metadata": {},
   "outputs": [
    {
     "data": {
      "text/plain": [
       "[(1, 2), (1, 4), (3, 4)]"
      ]
     },
     "execution_count": 8,
     "metadata": {},
     "output_type": "execute_result"
    }
   ],
   "source": [
    "available_positions(sample_board, -1)"
   ]
  },
  {
   "cell_type": "code",
   "execution_count": 9,
   "metadata": {},
   "outputs": [],
   "source": [
    "class Player:\n",
    "    def choose_pos(self, board, player, avail):\n",
    "        pass"
   ]
  },
  {
   "cell_type": "code",
   "execution_count": 10,
   "metadata": {},
   "outputs": [],
   "source": [
    "class Human_Player(Player):\n",
    "    def choose_pos(self, board, player, avail):\n",
    "        x, y = list(map(int, (input(\"Please input your choice: \").split())))\n",
    "        return x, y"
   ]
  },
  {
   "cell_type": "code",
   "execution_count": 11,
   "metadata": {},
   "outputs": [],
   "source": [
    "class Random_Player(Player):\n",
    "    def choose_pos(self, board, player, avail):\n",
    "        return random.choice(avail)"
   ]
  },
  {
   "cell_type": "code",
   "execution_count": 89,
   "metadata": {},
   "outputs": [],
   "source": [
    "class AI_Player(Player):\n",
    "    def DFS(board, player, depth, alpha, beta):\n",
    "        act = (-1, -1)\n",
    "        if game_over(board) or depth == 0:\n",
    "            # print(\"Over\")\n",
    "            return AI_Player.evaluate(board, player), act\n",
    "        \n",
    "        avail = available_positions(board, player)\n",
    "        if len(avail) == 0:\n",
    "            return AI_Player.DFS(board, -player, depth - 1, -beta, -alpha)\n",
    "        for a in avail:\n",
    "            b = copy.deepcopy(board)\n",
    "            board = play_one_step(board, player, a)\n",
    "            tmp = AI_Player.DFS(board, -player, depth - 1, -beta, -alpha)\n",
    "            # print(tmp)\n",
    "            board = b\n",
    "            \n",
    "            value = -tmp[0]\n",
    "            if value > alpha:\n",
    "                if value >= beta:\n",
    "                    return beta, act\n",
    "                alpha = value\n",
    "                act = a\n",
    "\n",
    "        return alpha, act\n",
    "    \n",
    "    def val_matrix():\n",
    "        if N == 8:\n",
    "            return [[90,-60,10,10,10,10,-60,90],\n",
    "                    [-60,-80,5,5,5,5,-80,-60],\n",
    "                    [10,5,1,1,1,1,5,10],\n",
    "                    [10,5,1,1,1,1,5,10],\n",
    "                    [10,5,1,1,1,1,5,10],\n",
    "                    [10,5,1,1,1,1,5,10],\n",
    "                    [-60,-80,5,5,5,5,-80,-60],\n",
    "                    [90,-60,10,10,10,10,-60,90]]\n",
    "        elif N == 6:\n",
    "            return [[90,-60,10,10,-60,90],\n",
    "                    [-60,-80,5,5,-80,-60],\n",
    "                    [10,5,1,1,5,10],\n",
    "                    [10,5,1,1,5,10],\n",
    "                    [-60,-80,5,5,-80,-60],\n",
    "                    [90,-60,10,10,-60,90]]\n",
    "    \n",
    "    def get_pos_val(board, player):\n",
    "        mat = AI_Player.val_matrix()\n",
    "        ret = 0\n",
    "        for i in range(N):\n",
    "            for j in range(N):\n",
    "                ret += mat[i][j] if board[i][j] == player else 0\n",
    "        return ret\n",
    "    \n",
    "    def get_stable_stones(board, player):\n",
    "        avail = available_positions(board, -player)\n",
    "        b = copy.deepcopy(board)\n",
    "        for a in avail:\n",
    "            b = play_one_step(b, -player, a)\n",
    "        ret = 0\n",
    "        for i in range(N):\n",
    "            for j in range(N):\n",
    "                if b[i][j] == player:\n",
    "                    ret += 1\n",
    "        return ret\n",
    "    \n",
    "    def evaluate(board, player):\n",
    "        v1 = AI_Player.get_pos_val(board, player) \\\n",
    "            - AI_Player.get_pos_val(board, -player)\n",
    "        v2 = len(available_positions(board, player)) \\\n",
    "            - len(available_positions(board, -player))\n",
    "        v3 = AI_Player.get_stable_stones(board, player) \\\n",
    "            - AI_Player.get_stable_stones(board, -player)\n",
    "        return v1 + 10 * v2 + 20 * v3\n",
    "\n",
    "    def choose_pos(self, board, player, avail):\n",
    "        alpha, act = AI_Player.DFS(board, player, 5, -99999999, 99999999)\n",
    "        return act"
   ]
  },
  {
   "cell_type": "code",
   "execution_count": null,
   "metadata": {},
   "outputs": [],
   "source": []
  },
  {
   "cell_type": "code",
   "execution_count": 90,
   "metadata": {},
   "outputs": [],
   "source": [
    "def play_game(player1:Player, player2:Player):\n",
    "    d = {1:player1, -1:player2}\n",
    "    board = initial_board()\n",
    "    player = -1\n",
    "    while True:\n",
    "        player = -player\n",
    "        avail = available_positions(board, player)\n",
    "        # print_board(board, player, avail)\n",
    "        \n",
    "        if game_over(board):\n",
    "            winner = get_winner(board)\n",
    "            # print(\"\\nGame is over!\\nThe winner is player: \", winner)\n",
    "            return winner\n",
    "        if len(avail) == 0:\n",
    "            # print(\"You have to pass!\\n\")\n",
    "            continue\n",
    "        \n",
    "        x, y = d[player].choose_pos(board, player, avail)\n",
    "        while not (x, y) in avail:\n",
    "            x, y = d[player].choose_pos(board, player, avail)\n",
    "        board = play_one_step(board, player, (x, y))\n",
    "        # print(\"\\n\\n\")"
   ]
  },
  {
   "cell_type": "code",
   "execution_count": null,
   "metadata": {},
   "outputs": [],
   "source": []
  },
  {
   "cell_type": "code",
   "execution_count": 76,
   "metadata": {},
   "outputs": [
    {
     "data": {
      "text/plain": [
       "(5, 4)"
      ]
     },
     "execution_count": 76,
     "metadata": {},
     "output_type": "execute_result"
    }
   ],
   "source": [
    "b = [[-1, -1, -1, -1, -1, -1],\n",
    "        [-1, -1, -1, 1, -1, -1], \n",
    "        [-1, -1, -1, 1, -1, -1], \n",
    "        [-1, -1, -1, 1, -1, -1], \n",
    "        [-1, -1, -1, 1, -1, -1], \n",
    "        [0,  -1,  0, 1,  0,  0]]\n",
    "AI_Player().choose_pos(b, -1, [])"
   ]
  },
  {
   "cell_type": "code",
   "execution_count": null,
   "metadata": {},
   "outputs": [],
   "source": []
  },
  {
   "cell_type": "code",
   "execution_count": 92,
   "metadata": {},
   "outputs": [
    {
     "name": "stdout",
     "output_type": "stream",
     "text": [
      "Game 0: win 1 --- loss 0\n",
      "Ratio: 1.0\n",
      "Game 1: win 2 --- loss 0\n",
      "Ratio: 1.0\n",
      "Game 2: win 3 --- loss 0\n",
      "Ratio: 1.0\n",
      "Game 3: win 4 --- loss 0\n",
      "Ratio: 1.0\n",
      "Game 4: win 5 --- loss 0\n",
      "Ratio: 1.0\n",
      "Game 5: win 6 --- loss 0\n",
      "Ratio: 1.0\n",
      "Game 6: win 7 --- loss 0\n",
      "Ratio: 1.0\n",
      "Game 7: win 8 --- loss 0\n",
      "Ratio: 1.0\n",
      "Game 8: win 9 --- loss 0\n",
      "Ratio: 1.0\n",
      "Game 9: win 10 --- loss 0\n",
      "Ratio: 1.0\n",
      "Game 10: win 11 --- loss 0\n",
      "Ratio: 1.0\n",
      "Game 11: win 12 --- loss 0\n",
      "Ratio: 1.0\n",
      "Game 12: win 13 --- loss 0\n",
      "Ratio: 1.0\n",
      "Game 13: win 14 --- loss 0\n",
      "Ratio: 1.0\n",
      "Game 14: win 15 --- loss 0\n",
      "Ratio: 1.0\n",
      "Game 15: win 16 --- loss 0\n",
      "Ratio: 1.0\n",
      "Game 16: win 17 --- loss 0\n",
      "Ratio: 1.0\n",
      "Game 17: win 18 --- loss 0\n",
      "Ratio: 1.0\n",
      "Game 18: win 19 --- loss 0\n",
      "Ratio: 1.0\n",
      "Game 19: win 20 --- loss 0\n",
      "Ratio: 1.0\n",
      "Game 20: win 21 --- loss 0\n",
      "Ratio: 1.0\n",
      "Game 21: win 22 --- loss 0\n",
      "Ratio: 1.0\n",
      "Game 22: win 23 --- loss 0\n",
      "Ratio: 1.0\n",
      "Game 23: win 24 --- loss 0\n",
      "Ratio: 1.0\n",
      "Game 24: win 25 --- loss 0\n",
      "Ratio: 1.0\n",
      "Game 25: win 25 --- loss 1\n",
      "Ratio: 0.9615384615384616\n",
      "Game 26: win 26 --- loss 1\n",
      "Ratio: 0.9629629629629629\n",
      "Game 27: win 27 --- loss 1\n",
      "Ratio: 0.9642857142857143\n",
      "Game 28: win 28 --- loss 1\n",
      "Ratio: 0.9655172413793104\n",
      "Game 29: win 29 --- loss 1\n",
      "Ratio: 0.9666666666666667\n",
      "Game 30: win 30 --- loss 1\n",
      "Ratio: 0.967741935483871\n",
      "Game 31: win 31 --- loss 1\n",
      "Ratio: 0.96875\n",
      "Game 32: win 31 --- loss 2\n",
      "Ratio: 0.9393939393939394\n",
      "Game 33: win 32 --- loss 2\n",
      "Ratio: 0.9411764705882353\n",
      "Game 34: win 33 --- loss 2\n",
      "Ratio: 0.9428571428571428\n",
      "Game 35: win 34 --- loss 2\n",
      "Ratio: 0.9444444444444444\n",
      "Game 36: win 35 --- loss 2\n",
      "Ratio: 0.9459459459459459\n",
      "Game 37: win 36 --- loss 2\n",
      "Ratio: 0.9473684210526315\n",
      "Game 38: win 37 --- loss 2\n",
      "Ratio: 0.9487179487179487\n",
      "Game 39: win 38 --- loss 2\n",
      "Ratio: 0.95\n",
      "Game 40: win 39 --- loss 2\n",
      "Ratio: 0.9512195121951219\n",
      "Game 41: win 40 --- loss 2\n",
      "Ratio: 0.9523809523809523\n",
      "Game 42: win 40 --- loss 3\n",
      "Ratio: 0.9302325581395349\n",
      "Game 43: win 41 --- loss 3\n",
      "Ratio: 0.9318181818181818\n",
      "Game 44: win 42 --- loss 3\n",
      "Ratio: 0.9333333333333333\n",
      "Game 45: win 43 --- loss 3\n",
      "Ratio: 0.9347826086956522\n",
      "Game 46: win 44 --- loss 3\n",
      "Ratio: 0.9361702127659575\n",
      "Game 47: win 45 --- loss 3\n",
      "Ratio: 0.9375\n",
      "Game 48: win 46 --- loss 3\n",
      "Ratio: 0.9387755102040817\n",
      "Game 49: win 47 --- loss 3\n",
      "Ratio: 0.94\n",
      "Game 50: win 48 --- loss 3\n",
      "Ratio: 0.9411764705882353\n",
      "Game 51: win 49 --- loss 3\n",
      "Ratio: 0.9423076923076923\n",
      "Game 52: win 50 --- loss 3\n",
      "Ratio: 0.9433962264150944\n",
      "Game 53: win 51 --- loss 3\n",
      "Ratio: 0.9444444444444444\n",
      "Game 54: win 52 --- loss 3\n",
      "Ratio: 0.9454545454545454\n",
      "Game 55: win 53 --- loss 3\n",
      "Ratio: 0.9464285714285714\n",
      "Game 56: win 54 --- loss 3\n",
      "Ratio: 0.9473684210526315\n",
      "Game 57: win 55 --- loss 3\n",
      "Ratio: 0.9482758620689655\n",
      "Game 58: win 56 --- loss 3\n",
      "Ratio: 0.9491525423728814\n",
      "Game 59: win 57 --- loss 3\n",
      "Ratio: 0.95\n",
      "Game 60: win 58 --- loss 3\n",
      "Ratio: 0.9508196721311475\n",
      "Game 61: win 59 --- loss 3\n",
      "Ratio: 0.9516129032258065\n",
      "Game 62: win 60 --- loss 3\n",
      "Ratio: 0.9523809523809523\n",
      "Game 63: win 61 --- loss 3\n",
      "Ratio: 0.953125\n",
      "Game 64: win 62 --- loss 3\n",
      "Ratio: 0.9538461538461539\n",
      "Game 65: win 63 --- loss 3\n",
      "Ratio: 0.9545454545454546\n",
      "Game 66: win 64 --- loss 3\n",
      "Ratio: 0.9552238805970149\n",
      "Game 67: win 65 --- loss 3\n",
      "Ratio: 0.9558823529411765\n",
      "Game 68: win 66 --- loss 3\n",
      "Ratio: 0.9565217391304348\n",
      "Game 69: win 67 --- loss 3\n",
      "Ratio: 0.9571428571428572\n",
      "Game 70: win 67 --- loss 4\n",
      "Ratio: 0.9436619718309859\n",
      "Game 71: win 68 --- loss 4\n",
      "Ratio: 0.9444444444444444\n",
      "Game 72: win 69 --- loss 4\n",
      "Ratio: 0.9452054794520548\n",
      "Game 73: win 70 --- loss 4\n",
      "Ratio: 0.9459459459459459\n",
      "Game 74: win 71 --- loss 4\n",
      "Ratio: 0.9466666666666667\n",
      "Game 75: win 72 --- loss 4\n",
      "Ratio: 0.9473684210526315\n",
      "Game 76: win 73 --- loss 4\n",
      "Ratio: 0.948051948051948\n",
      "Game 77: win 74 --- loss 4\n",
      "Ratio: 0.9487179487179487\n",
      "Game 78: win 75 --- loss 4\n",
      "Ratio: 0.9493670886075949\n",
      "Game 79: win 76 --- loss 4\n",
      "Ratio: 0.95\n",
      "Game 80: win 77 --- loss 4\n",
      "Ratio: 0.9506172839506173\n",
      "Game 81: win 78 --- loss 4\n",
      "Ratio: 0.9512195121951219\n",
      "Game 82: win 79 --- loss 4\n",
      "Ratio: 0.9518072289156626\n",
      "Game 83: win 80 --- loss 4\n",
      "Ratio: 0.9523809523809523\n",
      "Game 84: win 81 --- loss 4\n",
      "Ratio: 0.9529411764705882\n",
      "Game 85: win 82 --- loss 4\n",
      "Ratio: 0.9534883720930233\n",
      "Game 86: win 83 --- loss 4\n",
      "Ratio: 0.9540229885057471\n",
      "Game 87: win 84 --- loss 4\n",
      "Ratio: 0.9545454545454546\n",
      "Game 88: win 85 --- loss 4\n",
      "Ratio: 0.9550561797752809\n",
      "Game 89: win 86 --- loss 4\n",
      "Ratio: 0.9555555555555556\n",
      "Game 90: win 87 --- loss 4\n",
      "Ratio: 0.9560439560439561\n",
      "Game 91: win 88 --- loss 4\n",
      "Ratio: 0.9565217391304348\n",
      "Game 92: win 89 --- loss 4\n",
      "Ratio: 0.956989247311828\n",
      "Game 93: win 90 --- loss 4\n",
      "Ratio: 0.9574468085106383\n",
      "Game 94: win 91 --- loss 4\n",
      "Ratio: 0.9578947368421052\n",
      "Game 95: win 92 --- loss 4\n",
      "Ratio: 0.9583333333333334\n",
      "Game 96: win 93 --- loss 4\n",
      "Ratio: 0.9587628865979382\n",
      "Game 97: win 94 --- loss 4\n",
      "Ratio: 0.9591836734693877\n",
      "Game 98: win 95 --- loss 4\n",
      "Ratio: 0.9595959595959596\n",
      "Game 99: win 96 --- loss 4\n",
      "Ratio: 0.96\n"
     ]
    }
   ],
   "source": [
    "winning = 0\n",
    "for i in range(100):\n",
    "    if play_game(AI_Player(), Random_Player()) == 1:\n",
    "        winning += 1\n",
    "    print(\"Game {}: win {} --- loss {}\".format(i, winning, i + 1 - winning))\n",
    "    print(\"Ratio:\", winning / (i + 1))"
   ]
  },
  {
   "cell_type": "code",
   "execution_count": null,
   "metadata": {},
   "outputs": [],
   "source": []
  },
  {
   "cell_type": "code",
   "execution_count": null,
   "metadata": {},
   "outputs": [],
   "source": [
    "class MCTS_Player(Player):\n",
    "    class Node:\n",
    "        def __init__(self, board, player_):\n",
    "            self.C = 1.0\n",
    "            self.state = board\n",
    "            self.player = player_\n",
    "            self.actions = available_positions(board, player_)\n",
    "            \n",
    "            self.son = {}\n",
    "            self.num = 0\n",
    "            self.win = 0\n",
    "        \n",
    "        def select_node(self):\n",
    "            val, act = -float(\"INF\"), None\n",
    "            for a in avail:\n",
    "                if a in self.son:\n",
    "                    y = self.son[a]\n",
    "                    v = y.win / y.num + C * math.sqrt(math.log(self.num) / (1 + y.num))\n",
    "                    if v > val:\n",
    "                        val, act = v, a\n",
    "                else:\n",
    "                    v = 0 + C * math.sqrt(math.log(self.num))\n",
    "                    if v > val:\n",
    "                        val, act = v, a\n",
    "            return val, act\n",
    "        \n",
    "        def expansion_node(self):\n",
    "            act = random.choice(self.actions)\n",
    "            board = copy.deepcopy(self.state)\n",
    "            board = play_one_step(board, -self.player, act)\n",
    "            self.son[act] = Node(board, -self.player)\n",
    "            return self.son[act]\n",
    "        \n",
    "        def rollout(self):\n",
    "            board = self.state\n",
    "            player = self.player\n",
    "            while True:\n",
    "                if game_over(board):\n",
    "                    return get_winner(board)\n",
    "                avail = available_positions(board, player)\n",
    "                act = random.choice(avail)\n",
    "                board = play_one_step(board, player, act)\n",
    "                player = -player\n",
    "        \n",
    "        def dfs(x):\n",
    "            val, act = x.select_node()\n",
    "            if act in x.son:\n",
    "                y = x.son[act]\n",
    "                dfs(y)\n",
    "            else:\n",
    "                \n",
    "    \n",
    "    def choose_pos(self, board, player, avail):\n",
    "        return -1, -1"
   ]
  },
  {
   "cell_type": "code",
   "execution_count": null,
   "metadata": {},
   "outputs": [],
   "source": []
  },
  {
   "cell_type": "code",
   "execution_count": null,
   "metadata": {},
   "outputs": [],
   "source": []
  }
 ],
 "metadata": {
  "@webio": {
   "lastCommId": "134eb0413f184dba9144481ebb0a131f",
   "lastKernelId": "aca5e3a0-55f0-4ae7-bd7f-389556a7cbcb"
  },
  "kernelspec": {
   "display_name": "Python 3",
   "language": "python",
   "name": "python3"
  },
  "language_info": {
   "codemirror_mode": {
    "name": "ipython",
    "version": 3
   },
   "file_extension": ".py",
   "mimetype": "text/x-python",
   "name": "python",
   "nbconvert_exporter": "python",
   "pygments_lexer": "ipython3",
   "version": "3.7.0"
  }
 },
 "nbformat": 4,
 "nbformat_minor": 2
}
